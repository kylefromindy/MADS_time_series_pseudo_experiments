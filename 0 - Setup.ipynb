{
 "cells": [
  {
   "cell_type": "markdown",
   "metadata": {},
   "source": [
    "## Install Packages as Needed"
   ]
  },
  {
   "cell_type": "code",
   "execution_count": 1,
   "metadata": {},
   "outputs": [
    {
     "name": "stdout",
     "output_type": "stream",
     "text": [
      "Requirement already satisfied: pip in /Users/kclark/projects/mads_env/lib/python3.11/site-packages (24.2)\n",
      "Requirement already satisfied: pandas in /Users/kclark/projects/mads_env/lib/python3.11/site-packages (2.2.3)\n",
      "Requirement already satisfied: numpy>=1.23.2 in /Users/kclark/projects/mads_env/lib/python3.11/site-packages (from pandas) (2.1.2)\n",
      "Requirement already satisfied: python-dateutil>=2.8.2 in /Users/kclark/projects/mads_env/lib/python3.11/site-packages (from pandas) (2.9.0.post0)\n",
      "Requirement already satisfied: pytz>=2020.1 in /Users/kclark/projects/mads_env/lib/python3.11/site-packages (from pandas) (2024.2)\n",
      "Requirement already satisfied: tzdata>=2022.7 in /Users/kclark/projects/mads_env/lib/python3.11/site-packages (from pandas) (2024.2)\n",
      "Requirement already satisfied: six>=1.5 in /Users/kclark/projects/mads_env/lib/python3.11/site-packages (from python-dateutil>=2.8.2->pandas) (1.16.0)\n",
      "Requirement already satisfied: pyarrow in /Users/kclark/projects/mads_env/lib/python3.11/site-packages (17.0.0)\n",
      "Requirement already satisfied: numpy>=1.16.6 in /Users/kclark/projects/mads_env/lib/python3.11/site-packages (from pyarrow) (2.1.2)\n",
      "Requirement already satisfied: matplotlib in /Users/kclark/projects/mads_env/lib/python3.11/site-packages (3.9.2)\n",
      "Requirement already satisfied: contourpy>=1.0.1 in /Users/kclark/projects/mads_env/lib/python3.11/site-packages (from matplotlib) (1.3.0)\n",
      "Requirement already satisfied: cycler>=0.10 in /Users/kclark/projects/mads_env/lib/python3.11/site-packages (from matplotlib) (0.12.1)\n",
      "Requirement already satisfied: fonttools>=4.22.0 in /Users/kclark/projects/mads_env/lib/python3.11/site-packages (from matplotlib) (4.54.1)\n",
      "Requirement already satisfied: kiwisolver>=1.3.1 in /Users/kclark/projects/mads_env/lib/python3.11/site-packages (from matplotlib) (1.4.7)\n",
      "Requirement already satisfied: numpy>=1.23 in /Users/kclark/projects/mads_env/lib/python3.11/site-packages (from matplotlib) (2.1.2)\n",
      "Requirement already satisfied: packaging>=20.0 in /Users/kclark/projects/mads_env/lib/python3.11/site-packages (from matplotlib) (24.1)\n",
      "Requirement already satisfied: pillow>=8 in /Users/kclark/projects/mads_env/lib/python3.11/site-packages (from matplotlib) (10.4.0)\n",
      "Requirement already satisfied: pyparsing>=2.3.1 in /Users/kclark/projects/mads_env/lib/python3.11/site-packages (from matplotlib) (3.1.4)\n",
      "Requirement already satisfied: python-dateutil>=2.7 in /Users/kclark/projects/mads_env/lib/python3.11/site-packages (from matplotlib) (2.9.0.post0)\n",
      "Requirement already satisfied: six>=1.5 in /Users/kclark/projects/mads_env/lib/python3.11/site-packages (from python-dateutil>=2.7->matplotlib) (1.16.0)\n",
      "Requirement already satisfied: statsmodels in /Users/kclark/projects/mads_env/lib/python3.11/site-packages (0.14.4)\n",
      "Requirement already satisfied: numpy<3,>=1.22.3 in /Users/kclark/projects/mads_env/lib/python3.11/site-packages (from statsmodels) (2.1.2)\n",
      "Requirement already satisfied: scipy!=1.9.2,>=1.8 in /Users/kclark/projects/mads_env/lib/python3.11/site-packages (from statsmodels) (1.14.1)\n",
      "Requirement already satisfied: pandas!=2.1.0,>=1.4 in /Users/kclark/projects/mads_env/lib/python3.11/site-packages (from statsmodels) (2.2.3)\n",
      "Requirement already satisfied: patsy>=0.5.6 in /Users/kclark/projects/mads_env/lib/python3.11/site-packages (from statsmodels) (0.5.6)\n",
      "Requirement already satisfied: packaging>=21.3 in /Users/kclark/projects/mads_env/lib/python3.11/site-packages (from statsmodels) (24.1)\n",
      "Requirement already satisfied: python-dateutil>=2.8.2 in /Users/kclark/projects/mads_env/lib/python3.11/site-packages (from pandas!=2.1.0,>=1.4->statsmodels) (2.9.0.post0)\n",
      "Requirement already satisfied: pytz>=2020.1 in /Users/kclark/projects/mads_env/lib/python3.11/site-packages (from pandas!=2.1.0,>=1.4->statsmodels) (2024.2)\n",
      "Requirement already satisfied: tzdata>=2022.7 in /Users/kclark/projects/mads_env/lib/python3.11/site-packages (from pandas!=2.1.0,>=1.4->statsmodels) (2024.2)\n",
      "Requirement already satisfied: six in /Users/kclark/projects/mads_env/lib/python3.11/site-packages (from patsy>=0.5.6->statsmodels) (1.16.0)\n",
      "Requirement already satisfied: pycausalimpact in /Users/kclark/projects/mads_env/lib/python3.11/site-packages (0.1.1)\n",
      "Requirement already satisfied: numpy in /Users/kclark/projects/mads_env/lib/python3.11/site-packages (from pycausalimpact) (2.1.2)\n",
      "Requirement already satisfied: scipy in /Users/kclark/projects/mads_env/lib/python3.11/site-packages (from pycausalimpact) (1.14.1)\n",
      "Requirement already satisfied: statsmodels>=0.11.0 in /Users/kclark/projects/mads_env/lib/python3.11/site-packages (from pycausalimpact) (0.14.4)\n",
      "Requirement already satisfied: matplotlib>=2.2.3 in /Users/kclark/projects/mads_env/lib/python3.11/site-packages (from pycausalimpact) (3.9.2)\n",
      "Requirement already satisfied: jinja2>=2.10 in /Users/kclark/projects/mads_env/lib/python3.11/site-packages (from pycausalimpact) (3.1.4)\n",
      "Requirement already satisfied: MarkupSafe>=2.0 in /Users/kclark/projects/mads_env/lib/python3.11/site-packages (from jinja2>=2.10->pycausalimpact) (3.0.1)\n",
      "Requirement already satisfied: contourpy>=1.0.1 in /Users/kclark/projects/mads_env/lib/python3.11/site-packages (from matplotlib>=2.2.3->pycausalimpact) (1.3.0)\n",
      "Requirement already satisfied: cycler>=0.10 in /Users/kclark/projects/mads_env/lib/python3.11/site-packages (from matplotlib>=2.2.3->pycausalimpact) (0.12.1)\n",
      "Requirement already satisfied: fonttools>=4.22.0 in /Users/kclark/projects/mads_env/lib/python3.11/site-packages (from matplotlib>=2.2.3->pycausalimpact) (4.54.1)\n",
      "Requirement already satisfied: kiwisolver>=1.3.1 in /Users/kclark/projects/mads_env/lib/python3.11/site-packages (from matplotlib>=2.2.3->pycausalimpact) (1.4.7)\n",
      "Requirement already satisfied: packaging>=20.0 in /Users/kclark/projects/mads_env/lib/python3.11/site-packages (from matplotlib>=2.2.3->pycausalimpact) (24.1)\n",
      "Requirement already satisfied: pillow>=8 in /Users/kclark/projects/mads_env/lib/python3.11/site-packages (from matplotlib>=2.2.3->pycausalimpact) (10.4.0)\n",
      "Requirement already satisfied: pyparsing>=2.3.1 in /Users/kclark/projects/mads_env/lib/python3.11/site-packages (from matplotlib>=2.2.3->pycausalimpact) (3.1.4)\n",
      "Requirement already satisfied: python-dateutil>=2.7 in /Users/kclark/projects/mads_env/lib/python3.11/site-packages (from matplotlib>=2.2.3->pycausalimpact) (2.9.0.post0)\n",
      "Requirement already satisfied: pandas!=2.1.0,>=1.4 in /Users/kclark/projects/mads_env/lib/python3.11/site-packages (from statsmodels>=0.11.0->pycausalimpact) (2.2.3)\n",
      "Requirement already satisfied: patsy>=0.5.6 in /Users/kclark/projects/mads_env/lib/python3.11/site-packages (from statsmodels>=0.11.0->pycausalimpact) (0.5.6)\n",
      "Requirement already satisfied: pytz>=2020.1 in /Users/kclark/projects/mads_env/lib/python3.11/site-packages (from pandas!=2.1.0,>=1.4->statsmodels>=0.11.0->pycausalimpact) (2024.2)\n",
      "Requirement already satisfied: tzdata>=2022.7 in /Users/kclark/projects/mads_env/lib/python3.11/site-packages (from pandas!=2.1.0,>=1.4->statsmodels>=0.11.0->pycausalimpact) (2024.2)\n",
      "Requirement already satisfied: six in /Users/kclark/projects/mads_env/lib/python3.11/site-packages (from patsy>=0.5.6->statsmodels>=0.11.0->pycausalimpact) (1.16.0)\n"
     ]
    }
   ],
   "source": [
    "%%bash\n",
    "pip install --upgrade pip\n",
    "pip install pandas\n",
    "pip install pyarrow\n",
    "pip install matplotlib\n",
    "pip install statsmodels\n",
    "pip install pycausalimpact"
   ]
  },
  {
   "cell_type": "markdown",
   "metadata": {},
   "source": [
    "# !!! None of the following cells are required to execute the example Jupyter notebooks !!!\n",
    "\n",
    "### The following cells cite original data sets and modify them for the examples in the workshop"
   ]
  },
  {
   "cell_type": "code",
   "execution_count": 2,
   "metadata": {},
   "outputs": [],
   "source": [
    "import pandas as pd\n",
    "import random\n",
    "from datetime import datetime, timedelta\n",
    "import numpy as np\n",
    "\n",
    "random.seed(8675309)"
   ]
  },
  {
   "cell_type": "code",
   "execution_count": 3,
   "metadata": {},
   "outputs": [],
   "source": [
    "def random_date(start, end):\n",
    "    return start + timedelta(\n",
    "        days=random.randint(0, int((end - start).days)))\n",
    "\n",
    "# test the function\n",
    "# random_date(datetime(2024,1,1), datetime(2024,2,1))"
   ]
  },
  {
   "cell_type": "markdown",
   "metadata": {},
   "source": [
    "## Simple Experiment with Regression Data Prep\n",
    "\n",
    "Original Data set is from a [Criteo Uplift Modeling project on Kaggle](https://www.kaggle.com/datasets/arashnic/uplift-modeling), which uses a data set from the paper [\"A Large Scale Benchmark for Uplift Modeling\"](https://s3.us-east-2.amazonaws.com/criteo-uplift-dataset/large-scale-benchmark.pdf)"
   ]
  },
  {
   "cell_type": "code",
   "execution_count": 4,
   "metadata": {},
   "outputs": [],
   "source": [
    "xpdf = pd.read_csv('data/criteo-uplift-v2.1.csv')\n",
    "xpdf = xpdf[xpdf.visit == 1]\n",
    "xpdf.drop(columns=['f0', 'f1', 'f2', 'f3', 'f4', 'f5', 'f6', 'f7','f8', 'f9', 'f10', 'f11', 'visit', 'exposure'], inplace=True)\n",
    "xpdf['date'] = [random_date(datetime(2024,7,1), datetime(2024,10,1)) for _ in range(len(xpdf))]\n",
    "xpdf.sort_values(by=['date'], inplace=True)\n",
    "# xpdf.head()"
   ]
  },
  {
   "cell_type": "code",
   "execution_count": 5,
   "metadata": {},
   "outputs": [],
   "source": [
    "# xpdf.groupby('treatment').mean()"
   ]
  },
  {
   "cell_type": "code",
   "execution_count": 6,
   "metadata": {},
   "outputs": [
    {
     "data": {
      "text/html": [
       "<div>\n",
       "<style scoped>\n",
       "    .dataframe tbody tr th:only-of-type {\n",
       "        vertical-align: middle;\n",
       "    }\n",
       "\n",
       "    .dataframe tbody tr th {\n",
       "        vertical-align: top;\n",
       "    }\n",
       "\n",
       "    .dataframe thead th {\n",
       "        text-align: right;\n",
       "    }\n",
       "</style>\n",
       "<table border=\"1\" class=\"dataframe\">\n",
       "  <thead>\n",
       "    <tr style=\"text-align: right;\">\n",
       "      <th></th>\n",
       "      <th>treatment</th>\n",
       "      <th>conversion</th>\n",
       "      <th>date</th>\n",
       "      <th>experiment_cohort</th>\n",
       "    </tr>\n",
       "  </thead>\n",
       "  <tbody>\n",
       "    <tr>\n",
       "      <th>3943771</th>\n",
       "      <td>1</td>\n",
       "      <td>0</td>\n",
       "      <td>2024-07-01</td>\n",
       "      <td>new_website</td>\n",
       "    </tr>\n",
       "    <tr>\n",
       "      <th>9204439</th>\n",
       "      <td>1</td>\n",
       "      <td>0</td>\n",
       "      <td>2024-07-01</td>\n",
       "      <td>new_website</td>\n",
       "    </tr>\n",
       "    <tr>\n",
       "      <th>11998400</th>\n",
       "      <td>1</td>\n",
       "      <td>0</td>\n",
       "      <td>2024-07-01</td>\n",
       "      <td>new_website</td>\n",
       "    </tr>\n",
       "    <tr>\n",
       "      <th>10096813</th>\n",
       "      <td>1</td>\n",
       "      <td>0</td>\n",
       "      <td>2024-07-01</td>\n",
       "      <td>new_website</td>\n",
       "    </tr>\n",
       "    <tr>\n",
       "      <th>9696364</th>\n",
       "      <td>1</td>\n",
       "      <td>0</td>\n",
       "      <td>2024-07-01</td>\n",
       "      <td>new_website</td>\n",
       "    </tr>\n",
       "  </tbody>\n",
       "</table>\n",
       "</div>"
      ],
      "text/plain": [
       "          treatment  conversion       date experiment_cohort\n",
       "3943771           1           0 2024-07-01       new_website\n",
       "9204439           1           0 2024-07-01       new_website\n",
       "11998400          1           0 2024-07-01       new_website\n",
       "10096813          1           0 2024-07-01       new_website\n",
       "9696364           1           0 2024-07-01       new_website"
      ]
     },
     "execution_count": 6,
     "metadata": {},
     "output_type": "execute_result"
    }
   ],
   "source": [
    "xpdf['experiment_cohort'] = xpdf.treatment.apply(lambda x: 'new_website' if int(x) == 1 else 'control_old_website')\n",
    "xpdf.head()"
   ]
  },
  {
   "cell_type": "code",
   "execution_count": 7,
   "metadata": {},
   "outputs": [],
   "source": [
    "xpdf.to_parquet('data/simple_experiment_criteo_as_timeseries.parquet')"
   ]
  },
  {
   "cell_type": "code",
   "execution_count": 8,
   "metadata": {},
   "outputs": [],
   "source": [
    "xpdf = None\n",
    "del(xpdf)"
   ]
  },
  {
   "cell_type": "markdown",
   "metadata": {},
   "source": [
    "## Diff in Diff & CausalImpact Examples Data Prep\n",
    "\n",
    "Data sourced from the following Kaggle competition:\n",
    "> Florian Knauer, Will Cukierski. (2015). Rossmann Store Sales. Kaggle. https://kaggle.com/competitions/rossmann-store-sales"
   ]
  },
  {
   "cell_type": "code",
   "execution_count": 9,
   "metadata": {},
   "outputs": [
    {
     "name": "stderr",
     "output_type": "stream",
     "text": [
      "/var/folders/0p/rsdg95xn3_549lt83jlhx7y40000gq/T/ipykernel_76622/4191222095.py:1: DtypeWarning: Columns (7) have mixed types. Specify dtype option on import or set low_memory=False.\n",
      "  ross = pd.read_csv('data/train.csv')\n"
     ]
    }
   ],
   "source": [
    "ross = pd.read_csv('data/train.csv')\n",
    "ross.columns = [c.lower() for c in ross.columns]\n",
    "ross = ross[(ross.date >= '2015-02-01') & (ross.date < '2015-08-01')]"
   ]
  },
  {
   "cell_type": "code",
   "execution_count": 10,
   "metadata": {},
   "outputs": [],
   "source": [
    "# ross.store.nunique()"
   ]
  },
  {
   "cell_type": "code",
   "execution_count": 11,
   "metadata": {},
   "outputs": [],
   "source": [
    "def _store_geo_group(x):\n",
    "    if x > 500:\n",
    "        return 'all_others'\n",
    "    elif x % 5 < 2:\n",
    "        return 'test_holdout'\n",
    "    else:\n",
    "        return 'control_baseline'"
   ]
  },
  {
   "cell_type": "code",
   "execution_count": 12,
   "metadata": {},
   "outputs": [],
   "source": [
    "ross['geo_group'] = ross.store.apply(_store_geo_group)\n",
    "# ross.head()"
   ]
  },
  {
   "cell_type": "code",
   "execution_count": 13,
   "metadata": {},
   "outputs": [],
   "source": [
    "grdf = ross.groupby(['date', 'dayofweek', 'geo_group']).sales.sum().unstack().reset_index().sort_values(by='date').copy()\n",
    "# grdf.head()"
   ]
  },
  {
   "cell_type": "code",
   "execution_count": 14,
   "metadata": {},
   "outputs": [],
   "source": [
    "avg_sales = round(grdf.tail(28).test_holdout.mean())\n",
    "effect_mean = .3*avg_sales\n",
    "effect_sd = .1*effect_mean"
   ]
  },
  {
   "cell_type": "code",
   "execution_count": 15,
   "metadata": {},
   "outputs": [],
   "source": [
    "grdf['test_holdout'] = grdf.apply(lambda x: max(x['test_holdout'] - np.random.normal(effect_mean, effect_sd), 1000*random.random() ) if x['date'] >= '2015-05-01' else x['test_holdout'], axis=1)\n",
    "grdf['date'] = pd.to_datetime(grdf['date'])\n",
    "grdf['total_sales'] = grdf.all_others + grdf.control_baseline + grdf.test_holdout"
   ]
  },
  {
   "cell_type": "code",
   "execution_count": 16,
   "metadata": {},
   "outputs": [],
   "source": [
    "grdf.to_parquet('data/rossmann_sales.parquet')"
   ]
  },
  {
   "cell_type": "code",
   "execution_count": 17,
   "metadata": {},
   "outputs": [],
   "source": [
    "ross = None\n",
    "del(ross)\n",
    "grdf = None\n",
    "del(grdf)"
   ]
  },
  {
   "cell_type": "code",
   "execution_count": null,
   "metadata": {},
   "outputs": [],
   "source": []
  },
  {
   "cell_type": "code",
   "execution_count": null,
   "metadata": {},
   "outputs": [],
   "source": []
  },
  {
   "cell_type": "code",
   "execution_count": null,
   "metadata": {},
   "outputs": [],
   "source": []
  }
 ],
 "metadata": {
  "kernelspec": {
   "display_name": "mads_env",
   "language": "python",
   "name": "python3"
  },
  "language_info": {
   "codemirror_mode": {
    "name": "ipython",
    "version": 3
   },
   "file_extension": ".py",
   "mimetype": "text/x-python",
   "name": "python",
   "nbconvert_exporter": "python",
   "pygments_lexer": "ipython3",
   "version": "3.11.5"
  }
 },
 "nbformat": 4,
 "nbformat_minor": 2
}
